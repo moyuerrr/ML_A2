{
 "cells": [
  {
   "cell_type": "markdown",
   "id": "82816d64",
   "metadata": {},
   "source": [
    "# Training & Testing Dataset Preparation"
   ]
  },
  {
   "cell_type": "markdown",
   "id": "060f47b8",
   "metadata": {},
   "source": [
    "### Metadata"
   ]
  },
  {
   "cell_type": "code",
   "execution_count": 1,
   "id": "500f6728",
   "metadata": {},
   "outputs": [],
   "source": [
    "import os\n",
    "import numpy\n",
    "\n",
    "import tensorflow as tf\n",
    "from tensorflow.keras import datasets, layers, models\n",
    "\n",
    "# read in train data\n",
    "TRAINING_DATA_PATH = '../2025_A2/train'\n",
    "TRAIN_LABEL_PATH = TRAINING_DATA_PATH + '/train_metadata.csv'\n",
    "IMAGE_DIMENTION = (64, 64)"
   ]
  },
  {
   "cell_type": "markdown",
   "id": "c9a9af6a",
   "metadata": {},
   "source": [
    "### Function Definitions\n",
    "\n"
   ]
  },
  {
   "cell_type": "code",
   "execution_count": 2,
   "id": "8190427e",
   "metadata": {},
   "outputs": [],
   "source": [
    "def get_labels(labels_path):\n",
    "    # load labels as dict \n",
    "    labels = {}\n",
    "    mxm_labels = 0\n",
    "    with open(labels_path, 'r') as f:\n",
    "        counter:int = 0\n",
    "        for line in f:\n",
    "            # skip the first line\n",
    "            if counter == 0:\n",
    "                counter += 1\n",
    "                continue\n",
    "            line = line.strip().split(',')\n",
    "            # line [1] is the image name, line [2] is the label\n",
    "            labels[line[1]] = int(line[2])\n",
    "            if int(line[2]) > mxm_labels:\n",
    "                mxm_labels = int(line[2])\n",
    "    print(f\"Max label: {mxm_labels}\")\n",
    "    return labels\n",
    "\n",
    "def load_and_preprocess_images(image_folder, labels_dict, target_size=IMAGE_DIMENTION):\n",
    "    images = []\n",
    "    labels = []\n",
    "    \n",
    "    for filename in os.listdir(image_folder):\n",
    "        if filename.endswith(\".jpg\"): \n",
    "            img_path = os.path.join(image_folder, filename)\n",
    "            \n",
    "            # Read image with TensorFlow\n",
    "            img = tf.io.read_file(img_path)  # Read the image file\n",
    "            img = tf.image.decode_jpeg(img, channels=3)  # Decode the JPEG image (for JPG files)\n",
    "\n",
    "            # Resize the image to the target size (100x100)\n",
    "            img_resized = tf.image.resize(img, target_size)\n",
    "            \n",
    "            # Normalize image to [0, 1]\n",
    "            img_normalized = img_resized / 255.0\n",
    "            images.append(img_normalized)\n",
    "            \n",
    "            # Get the label from the dictionary\n",
    "            label = labels_dict.get(filename)\n",
    "            labels.append(label)\n",
    "    \n",
    "    # Convert lists to numpy arrays\n",
    "    images = numpy.array(images)\n",
    "    labels = numpy.array(labels)\n",
    "    \n",
    "    return images, labels"
   ]
  },
  {
   "cell_type": "markdown",
   "id": "c454752a",
   "metadata": {},
   "source": [
    "### Prepare Data"
   ]
  },
  {
   "cell_type": "code",
   "execution_count": 3,
   "id": "7819caec",
   "metadata": {},
   "outputs": [
    {
     "name": "stdout",
     "output_type": "stream",
     "text": [
      "Max label: 42\n"
     ]
    }
   ],
   "source": [
    "overall_images, overall_labels = load_and_preprocess_images(TRAINING_DATA_PATH, get_labels(TRAIN_LABEL_PATH))\n",
    "\n",
    "train_images, test_images = tf.keras.utils.split_dataset(\n",
    "    overall_images, left_size=0.9)\n",
    "\n",
    "train_labels, test_labels = tf.keras.utils.split_dataset(\n",
    "    overall_labels, left_size=0.9)\n"
   ]
  },
  {
   "cell_type": "markdown",
   "id": "9d741bef",
   "metadata": {},
   "source": [
    "# Model Definition & Model Training"
   ]
  },
  {
   "cell_type": "markdown",
   "id": "2083cec3",
   "metadata": {},
   "source": [
    "### Definition"
   ]
  },
  {
   "cell_type": "code",
   "execution_count": 4,
   "id": "10fdd751",
   "metadata": {},
   "outputs": [
    {
     "name": "stdout",
     "output_type": "stream",
     "text": [
      "Model: \"sequential\"\n",
      "_________________________________________________________________\n",
      " Layer (type)                Output Shape              Param #   \n",
      "=================================================================\n",
      " conv2d (Conv2D)             (None, 56, 56, 32)        7808      \n",
      "                                                                 \n",
      " max_pooling2d (MaxPooling2D  (None, 28, 28, 32)       0         \n",
      " )                                                               \n",
      "                                                                 \n",
      " conv2d_1 (Conv2D)           (None, 23, 23, 64)        73792     \n",
      "                                                                 \n",
      " max_pooling2d_1 (MaxPooling  (None, 11, 11, 64)       0         \n",
      " 2D)                                                             \n",
      "                                                                 \n",
      " conv2d_2 (Conv2D)           (None, 9, 9, 64)          36928     \n",
      "                                                                 \n",
      " max_pooling2d_2 (MaxPooling  (None, 4, 4, 64)         0         \n",
      " 2D)                                                             \n",
      "                                                                 \n",
      " flatten (Flatten)           (None, 1024)              0         \n",
      "                                                                 \n",
      " dense (Dense)               (None, 64)                65600     \n",
      "                                                                 \n",
      " dense_1 (Dense)             (None, 43)                2795      \n",
      "                                                                 \n",
      "=================================================================\n",
      "Total params: 186,923\n",
      "Trainable params: 186,923\n",
      "Non-trainable params: 0\n",
      "_________________________________________________________________\n"
     ]
    }
   ],
   "source": [
    "model = models.Sequential()\n",
    "model.add(layers.Conv2D(32, (9, 9), activation='relu', \n",
    "                        input_shape=(IMAGE_DIMENTION[0], IMAGE_DIMENTION[1], 3)))\n",
    "model.add(layers.MaxPooling2D((2, 2)))\n",
    "model.add(layers.Conv2D(64, (6, 6), activation='relu'))\n",
    "model.add(layers.MaxPooling2D((2, 2)))\n",
    "model.add(layers.Conv2D(64, (3, 3), activation='relu'))\n",
    "model.add(layers.MaxPooling2D((2, 2)))\n",
    "\n",
    "model.add(layers.Flatten())\n",
    "model.add(layers.Dense(64, activation='relu'))\n",
    "model.add(layers.Dense(43, activation='softmax'))\n",
    "\n",
    "model.compile(optimizer='adam',\n",
    "              loss=tf.keras.losses.SparseCategoricalCrossentropy(from_logits=True),\n",
    "              metrics=['accuracy'])\n",
    "model.summary()"
   ]
  },
  {
   "cell_type": "markdown",
   "id": "fdb437b3",
   "metadata": {},
   "source": [
    "### Train"
   ]
  },
  {
   "cell_type": "code",
   "execution_count": 5,
   "id": "303da8c6",
   "metadata": {},
   "outputs": [
    {
     "name": "stdout",
     "output_type": "stream",
     "text": [
      "Epoch 1/10\n"
     ]
    },
    {
     "name": "stderr",
     "output_type": "stream",
     "text": [
      "C:\\Users\\Administrator\\AppData\\Local\\Packages\\PythonSoftwareFoundation.Python.3.11_qbz5n2kfra8p0\\LocalCache\\local-packages\\Python311\\site-packages\\keras\\backend.py:5612: UserWarning: \"`sparse_categorical_crossentropy` received `from_logits=True`, but the `output` argument was produced by a Softmax activation and thus does not represent logits. Was this intended?\n",
      "  output, from_logits = _get_logits(\n"
     ]
    },
    {
     "name": "stdout",
     "output_type": "stream",
     "text": [
      "78/78 [==============================] - 10s 128ms/step - loss: 3.3609 - accuracy: 0.1221 - val_loss: 2.4647 - val_accuracy: 0.4128\n",
      "Epoch 2/10\n",
      "78/78 [==============================] - 10s 127ms/step - loss: 1.6609 - accuracy: 0.5872 - val_loss: 0.9733 - val_accuracy: 0.7651\n",
      "Epoch 3/10\n",
      "78/78 [==============================] - 10s 126ms/step - loss: 0.6972 - accuracy: 0.8166 - val_loss: 0.5511 - val_accuracy: 0.8494\n",
      "Epoch 4/10\n",
      "78/78 [==============================] - 10s 128ms/step - loss: 0.4019 - accuracy: 0.8919 - val_loss: 0.2478 - val_accuracy: 0.9403\n",
      "Epoch 5/10\n",
      "78/78 [==============================] - 10s 130ms/step - loss: 0.2276 - accuracy: 0.9423 - val_loss: 0.1704 - val_accuracy: 0.9567\n",
      "Epoch 6/10\n",
      "78/78 [==============================] - 12s 149ms/step - loss: 0.1490 - accuracy: 0.9603 - val_loss: 0.1260 - val_accuracy: 0.9670\n",
      "Epoch 7/10\n",
      "78/78 [==============================] - 14s 174ms/step - loss: 0.1207 - accuracy: 0.9686 - val_loss: 0.0893 - val_accuracy: 0.9769\n",
      "Epoch 8/10\n",
      "78/78 [==============================] - 11s 139ms/step - loss: 0.0786 - accuracy: 0.9814 - val_loss: 0.0690 - val_accuracy: 0.9844\n",
      "Epoch 9/10\n",
      "78/78 [==============================] - 12s 153ms/step - loss: 0.0883 - accuracy: 0.9771 - val_loss: 0.0987 - val_accuracy: 0.9702\n",
      "Epoch 10/10\n",
      "78/78 [==============================] - 14s 178ms/step - loss: 0.0614 - accuracy: 0.9834 - val_loss: 0.0427 - val_accuracy: 0.9901\n"
     ]
    },
    {
     "data": {
      "text/plain": [
       "<keras.callbacks.History at 0x21f74df3f90>"
      ]
     },
     "execution_count": 5,
     "metadata": {},
     "output_type": "execute_result"
    }
   ],
   "source": [
    "# 1. Log everything to TensorBoard\n",
    "tb = tf.keras.callbacks.TensorBoard(log_dir=\"logs\", histogram_freq=1, write_images=True)\n",
    "\n",
    "# tarin the model\n",
    "model.fit(numpy.array(list(train_images)),\n",
    "          numpy.array(list(train_labels)),\n",
    "          epochs=10, batch_size=64, callbacks=[tb],\n",
    "          validation_data=(numpy.array(list(train_images)), numpy.array(list(train_labels))))"
   ]
  },
  {
   "cell_type": "code",
   "execution_count": 6,
   "id": "b4468b88",
   "metadata": {},
   "outputs": [],
   "source": [
    "model.save('../models/cnn_model.h5')"
   ]
  },
  {
   "cell_type": "markdown",
   "id": "8acddf7d",
   "metadata": {},
   "source": [
    "# Evaluation"
   ]
  },
  {
   "cell_type": "code",
   "execution_count": 7,
   "id": "b2f767fe",
   "metadata": {},
   "outputs": [
    {
     "name": "stdout",
     "output_type": "stream",
     "text": [
      "18/18 [==============================] - 0s 19ms/step - loss: 0.2059 - accuracy: 0.9472\n",
      "Validation Loss: 0.2059212476015091\n",
      "Validation Accuracy: 0.9471766948699951\n"
     ]
    }
   ],
   "source": [
    "validation_loss, validation_accuracy = model.evaluate(numpy.array(list(test_images)), numpy.array(list(test_labels)), batch_size=32)\n",
    "\n",
    "print(f\"Validation Loss: {validation_loss}\")\n",
    "print(f\"Validation Accuracy: {validation_accuracy}\")"
   ]
  }
 ],
 "metadata": {
  "kernelspec": {
   "display_name": "Python 3",
   "language": "python",
   "name": "python3"
  },
  "language_info": {
   "codemirror_mode": {
    "name": "ipython",
    "version": 3
   },
   "file_extension": ".py",
   "mimetype": "text/x-python",
   "name": "python",
   "nbconvert_exporter": "python",
   "pygments_lexer": "ipython3",
   "version": "3.11.5"
  }
 },
 "nbformat": 4,
 "nbformat_minor": 5
}
