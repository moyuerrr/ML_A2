{
 "cells": [
  {
   "cell_type": "code",
   "execution_count": 1,
   "id": "3a1bf3ae",
   "metadata": {},
   "outputs": [],
   "source": [
    "import pandas as pd"
   ]
  },
  {
   "cell_type": "markdown",
   "id": "150cf656",
   "metadata": {},
   "source": [
    "# Define File Paths & Load to DataFrame"
   ]
  },
  {
   "cell_type": "code",
   "execution_count": 3,
   "id": "0bde79f8",
   "metadata": {},
   "outputs": [
    {
     "name": "stdout",
     "output_type": "stream",
     "text": [
      "./2025_A2/train/Features/additional_features.csv\n"
     ]
    }
   ],
   "source": [
    "BASE_PATH = './2025_A2/train'\n",
    "METADATA_PATH = BASE_PATH + '/train_metadata.csv'\n",
    "metadata = pd.read_csv(METADATA_PATH)   # columns: image_id, ClassId\n",
    "# test_meta  = pd.read_csv(\"test_metadata.csv\")    # columns: image_id\n",
    "\n",
    "FEATURE_PATH = BASE_PATH + '/Features'\n",
    "\n",
    "print(FEATURE_PATH + \"/additional_features.csv\")\n",
    "add_feats  = pd.read_csv(FEATURE_PATH + \"/additional_features.csv\")  # edge_density, mean_b/g/r …\n",
    "color_hist = pd.read_csv(FEATURE_PATH + \"/color_histogram.csv\")      # 95 colour-histogram bins\n",
    "hog_pca    = pd.read_csv(FEATURE_PATH + \"/hog_pca.csv\")           # 100 PCA components"
   ]
  },
  {
   "cell_type": "markdown",
   "id": "c81c62cb",
   "metadata": {},
   "source": [
    "# Data Processing"
   ]
  },
  {
   "cell_type": "markdown",
   "id": "11f4a285",
   "metadata": {},
   "source": [
    "### Join evety feature CSV with ClassID in metadata"
   ]
  },
  {
   "cell_type": "code",
   "execution_count": null,
   "id": "b482a7fb",
   "metadata": {},
   "outputs": [
    {
     "name": "stdout",
     "output_type": "stream",
     "text": [
      "Index(['image_path', 'hog_pca_0', 'hog_pca_1', 'hog_pca_2', 'hog_pca_3',\n",
      "       'hog_pca_4', 'hog_pca_5', 'hog_pca_6', 'hog_pca_7', 'hog_pca_8',\n",
      "       'hog_pca_9', 'hog_pca_10', 'hog_pca_11', 'hog_pca_12', 'hog_pca_13',\n",
      "       'hog_pca_14', 'hog_pca_15', 'hog_pca_16', 'hog_pca_17', 'hog_pca_18',\n",
      "       'hog_pca_19', 'ClassId'],\n",
      "      dtype='object')\n"
     ]
    }
   ],
   "source": [
    "hog_pca = hog_pca.merge(\n",
    "    metadata[[\"image_path\", \"ClassId\"]],\n",
    "    on=\"image_path\",\n",
    "    how=\"left\"\n",
    ")\n",
    "\n"
   ]
  }
 ],
 "metadata": {
  "kernelspec": {
   "display_name": "MPS-Torch",
   "language": "python",
   "name": "python3"
  },
  "language_info": {
   "codemirror_mode": {
    "name": "ipython",
    "version": 3
   },
   "file_extension": ".py",
   "mimetype": "text/x-python",
   "name": "python",
   "nbconvert_exporter": "python",
   "pygments_lexer": "ipython3",
   "version": "3.12.4"
  }
 },
 "nbformat": 4,
 "nbformat_minor": 5
}
