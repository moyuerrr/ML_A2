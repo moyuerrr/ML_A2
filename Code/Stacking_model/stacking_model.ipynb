{
 "cells": [
  {
   "cell_type": "code",
   "execution_count": 36,
   "metadata": {},
   "outputs": [],
   "source": [
    "import numpy as np\n",
    "import pandas as pd\n",
    "import joblib\n",
    "from sklearn.linear_model import LogisticRegression\n",
    "from sklearn.metrics import accuracy_score\n",
    "from sklearn.preprocessing import StandardScaler\n",
    "from tensorflow.keras.models import load_model\n",
    "from tensorflow.keras.utils import to_categorical\n",
    "from tensorflow.keras.preprocessing.image import img_to_array, load_img\n",
    "from sklearn.model_selection import train_test_split\n",
    "import os\n",
    "from tqdm import tqdm\n",
    "\n",
    "# -----------------------------\n",
    "# 1. 路径配置\n",
    "# -----------------------------\n",
    "model_dir = '../models'\n",
    "feature_dir = '../2025_A2/train/Features'\n",
    "metadata_path = '../2025_A2/train/train_metadata.csv'\n",
    "image_dir = '../2025_A2/train'  # 图像路径\n"
   ]
  },
  {
   "cell_type": "code",
   "execution_count": 37,
   "metadata": {},
   "outputs": [],
   "source": [
    "\n",
    "# -----------------------------\n",
    "# 2. 加载特征并准备验证集\n",
    "# -----------------------------\n",
    "color_df = pd.read_csv(os.path.join(feature_dir, 'color_histogram.csv'))\n",
    "hog_df = pd.read_csv(os.path.join(feature_dir, 'hog_pca.csv'))\n",
    "additional_df = pd.read_csv(os.path.join(feature_dir, 'additional_features.csv'))\n",
    "\n",
    "def merge(meta):\n",
    "    return (meta\n",
    "            .merge(additional_df,  on=\"image_path\")\n",
    "            .merge(color_df, on=\"image_path\")\n",
    "            .merge(hog_df,    on=\"image_path\"))\n",
    "\n",
    "metadata_df = pd.read_csv(metadata_path)\n",
    "\n",
    "X = merge(metadata_df).drop(columns=[\"ClassId\", \"image_path\"])\n",
    "y = metadata_df['ClassId']\n",
    "y_cat = to_categorical(y, num_classes=43)\n",
    "\n",
    "scaler = StandardScaler()\n",
    "X_scaled = scaler.fit_transform(X)\n",
    "\n",
    "X_train, X_val, y_train, y_val = train_test_split(X_scaled, y_cat, test_size=0.1, random_state=42)\n"
   ]
  },
  {
   "cell_type": "code",
   "execution_count": 38,
   "metadata": {},
   "outputs": [
    {
     "name": "stdout",
     "output_type": "stream",
     "text": [
      "(5488, 121)\n"
     ]
    }
   ],
   "source": [
    "print(X_scaled.shape)"
   ]
  },
  {
   "cell_type": "code",
   "execution_count": 39,
   "metadata": {},
   "outputs": [],
   "source": [
    "\n",
    "# -----------------------------\n",
    "# 3. 加载三个基础模型\n",
    "# -----------------------------\n",
    "rf_model = joblib.load(os.path.join(model_dir, 'random_forest.pkl'))\n",
    "nn_model = load_model(os.path.join(model_dir, 'neural_model.h5'))\n",
    "cnn_model = load_model(os.path.join(model_dir, 'cnn_model.h5'))\n"
   ]
  },
  {
   "cell_type": "code",
   "execution_count": 40,
   "metadata": {},
   "outputs": [
    {
     "name": "stderr",
     "output_type": "stream",
     "text": [
      "加载验证图像: 100%|██████████| 549/549 [00:00<00:00, 4551.66it/s]\n"
     ]
    }
   ],
   "source": [
    "\n",
    "# -----------------------------\n",
    "# 4. CNN输入：准备验证图像张量\n",
    "# -----------------------------\n",
    "image_paths = pd.read_csv(os.path.join(feature_dir, 'color_histogram.csv'))['image_path']  # 读取顺序\n",
    "image_paths_val = image_paths.iloc[X_val.shape[0]*-1:].values  # 只取验证集对应图像路径\n",
    "\n",
    "cnn_val_images = []\n",
    "for fname in tqdm(image_paths_val, desc=\"加载验证图像\"):\n",
    "    img = load_img(os.path.join(image_dir, fname), target_size=(64, 64))\n",
    "    img_array = img_to_array(img) / 255.0\n",
    "    cnn_val_images.append(img_array)\n",
    "cnn_val_images = np.array(cnn_val_images)\n"
   ]
  },
  {
   "cell_type": "code",
   "execution_count": 41,
   "metadata": {},
   "outputs": [
    {
     "name": "stdout",
     "output_type": "stream",
     "text": [
      "(549, 121)\n"
     ]
    }
   ],
   "source": [
    "print(X_val.shape)"
   ]
  },
  {
   "cell_type": "code",
   "execution_count": 42,
   "metadata": {},
   "outputs": [
    {
     "name": "stderr",
     "output_type": "stream",
     "text": [
      "C:\\Users\\Administrator\\AppData\\Local\\Packages\\PythonSoftwareFoundation.Python.3.11_qbz5n2kfra8p0\\LocalCache\\local-packages\\Python311\\site-packages\\sklearn\\base.py:465: UserWarning: X does not have valid feature names, but StandardScaler was fitted with feature names\n",
      "  warnings.warn(\n"
     ]
    },
    {
     "name": "stdout",
     "output_type": "stream",
     "text": [
      "18/18 [==============================] - 0s 925us/step\n",
      "18/18 [==============================] - 0s 14ms/step\n"
     ]
    }
   ],
   "source": [
    "\n",
    "# -----------------------------\n",
    "# 5. 各模型输出概率\n",
    "# -----------------------------\n",
    "proba_rf = rf_model.predict_proba(X_val)\n",
    "proba_nn = nn_model.predict(X_val)\n",
    "proba_cnn = cnn_model.predict(cnn_val_images)\n"
   ]
  },
  {
   "cell_type": "code",
   "execution_count": 43,
   "metadata": {},
   "outputs": [
    {
     "name": "stdout",
     "output_type": "stream",
     "text": [
      "✅ Stacking Validation Accuracy: 0.8761\n"
     ]
    }
   ],
   "source": [
    "\n",
    "# -----------------------------\n",
    "# 6. 构造 stacking 输入 + 训练 meta learner\n",
    "# -----------------------------\n",
    "X_meta = np.concatenate([proba_rf, proba_nn, proba_cnn], axis=1)\n",
    "y_meta = y_val.argmax(axis=1)\n",
    "\n",
    "meta_learner = LogisticRegression(max_iter=1000)\n",
    "meta_learner.fit(X_meta, y_meta)\n",
    "\n",
    "y_pred = meta_learner.predict(X_meta)\n",
    "acc = accuracy_score(y_meta, y_pred)\n",
    "print(f\"✅ Stacking Validation Accuracy: {acc:.4f}\")\n"
   ]
  }
 ],
 "metadata": {
  "kernelspec": {
   "display_name": "Python 3",
   "language": "python",
   "name": "python3"
  },
  "language_info": {
   "codemirror_mode": {
    "name": "ipython",
    "version": 3
   },
   "file_extension": ".py",
   "mimetype": "text/x-python",
   "name": "python",
   "nbconvert_exporter": "python",
   "pygments_lexer": "ipython3",
   "version": "3.11.5"
  }
 },
 "nbformat": 4,
 "nbformat_minor": 2
}
