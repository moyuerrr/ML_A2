{
 "cells": [
  {
   "cell_type": "code",
   "execution_count": 63,
   "metadata": {},
   "outputs": [],
   "source": [
    "import numpy as np\n",
    "import pandas as pd\n",
    "import joblib\n",
    "from sklearn.linear_model import LogisticRegression\n",
    "from sklearn.metrics import accuracy_score\n",
    "from sklearn.preprocessing import StandardScaler\n",
    "from tensorflow.keras.models import load_model\n",
    "from tensorflow.keras.utils import to_categorical\n",
    "from tensorflow.keras.preprocessing.image import img_to_array, load_img\n",
    "from sklearn.model_selection import train_test_split\n",
    "import os\n",
    "from tqdm import tqdm\n",
    "\n",
    "# -----------------------------\n",
    "# 1. 路径配置\n",
    "# -----------------------------\n",
    "model_dir = '../models'\n",
    "feature_dir = '../2025_A2/train/Features'\n",
    "metadata_path = '../2025_A2/train/train_metadata.csv'\n",
    "image_dir = '../2025_A2/train'  # 图像路径\n"
   ]
  },
  {
   "cell_type": "code",
   "execution_count": 64,
   "metadata": {},
   "outputs": [],
   "source": [
    "\n",
    "# -----------------------------\n",
    "# 2. 加载特征并准备验证集\n",
    "# -----------------------------\n",
    "color_df = pd.read_csv(os.path.join(feature_dir, 'color_histogram.csv'))\n",
    "hog_df = pd.read_csv(os.path.join(feature_dir, 'hog_pca.csv'))\n",
    "additional_df = pd.read_csv(os.path.join(feature_dir, 'additional_features.csv'))\n",
    "\n",
    "def merge(meta):\n",
    "    return (meta\n",
    "            .merge(additional_df,  on=\"image_path\")\n",
    "            .merge(color_df, on=\"image_path\")\n",
    "            .merge(hog_df,    on=\"image_path\"))\n",
    "\n",
    "metadata_df = pd.read_csv(metadata_path)\n",
    "\n",
    "X = merge(metadata_df).drop(columns=[\"ClassId\", \"image_path\"])\n",
    "y = metadata_df['ClassId']\n"
   ]
  },
  {
   "cell_type": "code",
   "execution_count": 65,
   "metadata": {},
   "outputs": [
    {
     "name": "stdout",
     "output_type": "stream",
     "text": [
      "(5488, 121)\n"
     ]
    }
   ],
   "source": [
    "print(X.shape)"
   ]
  },
  {
   "cell_type": "code",
   "execution_count": 66,
   "metadata": {},
   "outputs": [],
   "source": [
    "\n",
    "# -----------------------------\n",
    "# 3. 加载三个基础模型\n",
    "# -----------------------------\n",
    "rf_model = joblib.load(os.path.join(model_dir, 'random_forest.pkl'))\n",
    "nn_model = load_model(os.path.join(model_dir, 'neural_model.h5'))\n",
    "cnn_model = load_model(os.path.join(model_dir, 'cnn_model.h5'))\n"
   ]
  },
  {
   "cell_type": "code",
   "execution_count": 67,
   "metadata": {},
   "outputs": [
    {
     "name": "stderr",
     "output_type": "stream",
     "text": [
      "加载验证图像: 100%|██████████| 5488/5488 [00:02<00:00, 2526.98it/s]\n"
     ]
    }
   ],
   "source": [
    "\n",
    "# -----------------------------\n",
    "# 4. CNN输入：准备验证图像张量\n",
    "# -----------------------------\n",
    "image_paths_val = pd.read_csv(metadata_path)['image_path']  # 读取顺序\n",
    "\n",
    "cnn_val_images = []\n",
    "for fname in tqdm(image_paths_val, desc=\"加载验证图像\"):\n",
    "    img = load_img(os.path.join(image_dir, fname), target_size=(64, 64))\n",
    "    img_array = img_to_array(img) / 255.0\n",
    "    cnn_val_images.append(img_array)\n",
    "cnn_val_images = np.array(cnn_val_images)\n"
   ]
  },
  {
   "cell_type": "code",
   "execution_count": 68,
   "metadata": {},
   "outputs": [
    {
     "name": "stdout",
     "output_type": "stream",
     "text": [
      "(549, 121)\n"
     ]
    }
   ],
   "source": [
    "print(X_val.shape)"
   ]
  },
  {
   "cell_type": "code",
   "execution_count": 69,
   "metadata": {},
   "outputs": [
    {
     "name": "stdout",
     "output_type": "stream",
     "text": [
      "172/172 [==============================] - 0s 1ms/step\n",
      "172/172 [==============================] - 3s 15ms/step\n"
     ]
    }
   ],
   "source": [
    "\n",
    "# -----------------------------\n",
    "# 5. 各模型输出概率\n",
    "# -----------------------------\n",
    "scaler = StandardScaler()\n",
    "X_scaled = scaler.fit_transform(X)\n",
    "\n",
    "proba_rf = rf_model.predict_proba(X)\n",
    "proba_nn = nn_model.predict(X_scaled)\n",
    "proba_cnn = cnn_model.predict(cnn_val_images)\n"
   ]
  },
  {
   "cell_type": "code",
   "execution_count": 76,
   "metadata": {},
   "outputs": [
    {
     "name": "stdout",
     "output_type": "stream",
     "text": [
      "✅ Stacking Validation Accuracy: 0.9956\n"
     ]
    }
   ],
   "source": [
    "\n",
    "# -----------------------------\n",
    "# 6. 构造 stacking 输入 + 训练 meta learner\n",
    "# -----------------------------\n",
    "X_meta = np.concatenate([proba_rf, proba_nn, proba_cnn], axis=1)\n",
    "y_meta = y\n",
    "\n",
    "meta_learner = LogisticRegression(max_iter=1000)\n",
    "meta_learner.fit(X_meta, y_meta)\n",
    "\n",
    "y_pred = meta_learner.predict(X_meta)\n",
    "acc = accuracy_score(y_meta, y_pred)\n",
    "print(f\"✅ Stacking Validation Accuracy: {acc:.4f}\")\n"
   ]
  },
  {
   "cell_type": "code",
   "execution_count": 78,
   "metadata": {},
   "outputs": [
    {
     "name": "stdout",
     "output_type": "stream",
     "text": [
      "74/74 [==============================] - 0s 939us/step\n"
     ]
    },
    {
     "name": "stderr",
     "output_type": "stream",
     "text": [
      "加载验证图像: 100%|██████████| 2353/2353 [00:00<00:00, 4830.06it/s]"
     ]
    },
    {
     "name": "stdout",
     "output_type": "stream",
     "text": [
      " 1/74 [..............................] - ETA: 2s"
     ]
    },
    {
     "name": "stderr",
     "output_type": "stream",
     "text": [
      "\n"
     ]
    },
    {
     "name": "stdout",
     "output_type": "stream",
     "text": [
      "74/74 [==============================] - 1s 15ms/step\n"
     ]
    }
   ],
   "source": [
    "feature_dir_test = '../2025_A2/test/Features'\n",
    "meta_path_test = '../2025_A2/test/test_metadata.csv'\n",
    "\n",
    "color_df_test = pd.read_csv(f\"{feature_dir_test}/color_histogram.csv\")\n",
    "hog_df_test = pd.read_csv(f\"{feature_dir_test}/hog_pca.csv\")\n",
    "additional_df_test = pd.read_csv(f\"{feature_dir_test}/additional_features.csv\")\n",
    "def merge(meta):\n",
    "    return (meta\n",
    "            .merge(additional_df_test,  on=\"image_path\")\n",
    "            .merge(color_df_test, on=\"image_path\")\n",
    "            .merge(hog_df_test,    on=\"image_path\"))\n",
    "\n",
    "metadata_df_test = pd.read_csv(meta_path_test)\n",
    "\n",
    "X_test = merge(metadata_df_test).drop(columns=[\"ClassId\", \"image_path\"])\n",
    "proba_rf_test = rf_model.predict_proba(X_test)\n",
    "\n",
    "X_scaled_test = scaler.fit_transform(X_test)\n",
    "proba_nn_test = nn_model.predict(X_scaled_test)\n",
    "\n",
    "image_dir_test = '../2025_A2/test'\n",
    "\n",
    "image_paths_val_test = pd.read_csv(meta_path_test)['image_path']  # 读取顺序\n",
    "cnn_val_images_test = []\n",
    "for fname in tqdm(image_paths_val_test, desc=\"加载验证图像\"):\n",
    "    img = load_img(os.path.join(image_dir_test, fname), target_size=(64, 64))\n",
    "    img_array = img_to_array(img) / 255.0\n",
    "    cnn_val_images_test.append(img_array)\n",
    "cnn_val_images_test = np.array(cnn_val_images_test)\n",
    "proba_cnn_test = cnn_model.predict(cnn_val_images_test)\n",
    "\n",
    "\n",
    "X_meta_test = np.concatenate([proba_rf_test, proba_nn_test, proba_cnn_test], axis=1)\n",
    "y_pred_test = meta_learner.predict(X_meta_test)\n",
    "test_ids = pd.read_csv(meta_path_test)['id']  # eg: 1, 3105, 136\n",
    "submission = pd.DataFrame({\n",
    "    'id': test_ids,\n",
    "    'ClassId': y_pred_test\n",
    "})\n",
    "submission.to_csv('../stacking_model_result.csv', index=False)"
   ]
  }
 ],
 "metadata": {
  "kernelspec": {
   "display_name": "Python 3",
   "language": "python",
   "name": "python3"
  },
  "language_info": {
   "codemirror_mode": {
    "name": "ipython",
    "version": 3
   },
   "file_extension": ".py",
   "mimetype": "text/x-python",
   "name": "python",
   "nbconvert_exporter": "python",
   "pygments_lexer": "ipython3",
   "version": "3.11.5"
  }
 },
 "nbformat": 4,
 "nbformat_minor": 2
}
