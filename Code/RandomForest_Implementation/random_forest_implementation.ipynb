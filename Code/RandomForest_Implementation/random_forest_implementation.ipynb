{
 "cells": [
  {
   "cell_type": "code",
   "execution_count": null,
   "id": "76bf011e",
   "metadata": {},
   "outputs": [],
   "source": [
    "# traffic_sign_random_forest.py\n",
    "import pandas as pd\n",
    "from sklearn.model_selection import train_test_split, GridSearchCV\n",
    "from sklearn.preprocessing import StandardScaler\n",
    "from sklearn.pipeline import Pipeline\n",
    "from sklearn.ensemble import RandomForestClassifier\n",
    "\n",
    "# ------------------------------------------------------------------\n",
    "# 1.  Load metadata (image_id + class label) and all feature tables\n",
    "# ------------------------------------------------------------------\n",
    "\n",
    "BASE_PATH = '../2025_A2/train'\n",
    "METADATA_PATH = BASE_PATH + '/train_metadata.csv'\n",
    "train_meta = pd.read_csv(METADATA_PATH)   # columns: image_id, ClassId\n",
    "# test_meta  = pd.read_csv(\"test_metadata.csv\")    # columns: image_id\n",
    "\n",
    "FEATURE_PATH = BASE_PATH + '/Features'\n",
    "\n",
    "print(FEATURE_PATH + \"/additional_features.csv\")\n",
    "add_feats  = pd.read_csv(FEATURE_PATH + \"/additional_features.csv\")  # edge_density, mean_b/g/r …\n",
    "color_hist = pd.read_csv(FEATURE_PATH + \"/color_histogram.csv\")      # 95 colour-histogram bins\n",
    "hog_pca    = pd.read_csv(FEATURE_PATH + \"/hog_pca.csv\")              # 19 PCA-compressed HOG dims"
   ]
  },
  {
   "cell_type": "code",
   "execution_count": null,
   "id": "716e06e4",
   "metadata": {},
   "outputs": [],
   "source": [
    "# ------------------------------------------------------------------\n",
    "# 2.  Merge everything on the common key (image_path)\n",
    "# ------------------------------------------------------------------\n",
    "def merge(meta):\n",
    "    return (meta\n",
    "            .merge(add_feats,  on=\"image_path\")\n",
    "            .merge(color_hist, on=\"image_path\")\n",
    "            .merge(hog_pca,    on=\"image_path\"))\n",
    "\n",
    "train_df = merge(train_meta)\n",
    "# test_df  = merge(test_meta)\n",
    "\n",
    "X = train_df.drop(columns=[\"ClassId\", \"image_path\"])\n",
    "y = train_df[\"ClassId\"]"
   ]
  },
  {
   "cell_type": "code",
   "execution_count": null,
   "id": "9e44f060",
   "metadata": {},
   "outputs": [],
   "source": [
    "# ------------------------------------------------------------------\n",
    "# 3.  Build a pipeline:  StandardScaler  →  RandomForest\n",
    "#     (scaling isn’t critical for RF but doesn’t hurt mixed features)\n",
    "# ------------------------------------------------------------------\n",
    "pipe = Pipeline([\n",
    "    (\"scaler\", StandardScaler()),\n",
    "    (\"rf\", RandomForestClassifier(\n",
    "            n_estimators=500,\n",
    "            max_depth=None,\n",
    "            n_jobs=-1,\n",
    "            random_state=42))\n",
    "])\n",
    "\n",
    "# Optional: quick hyper-parameter search (takes a few minutes on CPU)\n",
    "param_grid = {\n",
    "    \"rf__n_estimators\": [300, 500, 800],\n",
    "    \"rf__max_depth\"   : [None, 20, 40],\n",
    "    \"rf__max_features\": [\"sqrt\", \"log2\"]\n",
    "}\n",
    "grid = GridSearchCV(pipe,\n",
    "                    param_grid,\n",
    "                    cv=5,\n",
    "                    n_jobs=-1,\n",
    "                    scoring=\"accuracy\",\n",
    "                    verbose=1)\n",
    "grid.fit(X, y)\n",
    "\n",
    "print(\"Best CV accuracy :\", grid.best_score_)\n",
    "print(\"Best parameters  :\", grid.best_params_)"
   ]
  },
  {
   "cell_type": "code",
   "execution_count": null,
   "id": "6eb01cc3",
   "metadata": {},
   "outputs": [],
   "source": [
    "# ------------------------------------------------------------------\n",
    "# 4.  Fit best model on ALL labelled data and predict the test set\n",
    "# ------------------------------------------------------------------\n",
    "best_model = grid.best_estimator_\n",
    "best_model.fit(X, y)\n",
    "\n",
    "# test_features = test_df.drop(columns=[\"image_id\"])\n",
    "# test_preds = best_model.predict(test_features)\n",
    "\n",
    "# pd.DataFrame({\n",
    "#     # \"image_id\": test_df[\"image_id\"],\n",
    "#     \"ClassId\" : test_preds\n",
    "# }).to_csv(\"submission.csv\", index=False)\n",
    "\n",
    "print(\"✅  submission.csv written – upload this on Kaggle\")"
   ]
  }
 ],
 "metadata": {
  "kernelspec": {
   "display_name": "MPS-Torch",
   "language": "python",
   "name": "python3"
  },
  "language_info": {
   "codemirror_mode": {
    "name": "ipython",
    "version": 3
   },
   "file_extension": ".py",
   "mimetype": "text/x-python",
   "name": "python",
   "nbconvert_exporter": "python",
   "pygments_lexer": "ipython3",
   "version": "3.12.4"
  }
 },
 "nbformat": 4,
 "nbformat_minor": 5
}
