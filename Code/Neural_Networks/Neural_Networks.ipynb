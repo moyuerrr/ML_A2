{
 "cells": [
  {
   "cell_type": "code",
   "execution_count": 13,
   "metadata": {},
   "outputs": [],
   "source": [
    "import os\n",
    "import pandas as pd\n",
    "import numpy as np\n",
    "from sklearn.model_selection import train_test_split\n",
    "from sklearn.preprocessing import StandardScaler\n",
    "from tensorflow.keras.models import Sequential\n",
    "from tensorflow.keras.layers import Dense, Dropout\n",
    "from tensorflow.keras.utils import to_categorical\n",
    "\n",
    "# 设置路径\n",
    "train_feature_dir = '../2025_A2/train/Features'\n",
    "train_metadata_path = '../2025_A2/train/train_metadata.csv'"
   ]
  },
  {
   "cell_type": "code",
   "execution_count": 14,
   "metadata": {},
   "outputs": [
    {
     "name": "stdout",
     "output_type": "stream",
     "text": [
      "id                int64\n",
      "edge_density    float64\n",
      "mean_b          float64\n",
      "mean_g          float64\n",
      "mean_r          float64\n",
      "                 ...   \n",
      "hog_pca_15      float64\n",
      "hog_pca_16      float64\n",
      "hog_pca_17      float64\n",
      "hog_pca_18      float64\n",
      "hog_pca_19      float64\n",
      "Length: 121, dtype: object\n"
     ]
    }
   ],
   "source": [
    "\n",
    "# 读取特征数据\n",
    "color_df = pd.read_csv(os.path.join(train_feature_dir, 'color_histogram.csv'))\n",
    "hog_df = pd.read_csv(os.path.join(train_feature_dir, 'hog_pca.csv'))\n",
    "additional_df = pd.read_csv(os.path.join(train_feature_dir, 'additional_features.csv'))\n",
    "\n",
    "def merge(meta):\n",
    "    return (meta\n",
    "            .merge(additional_df,  on=\"image_path\")\n",
    "            .merge(color_df, on=\"image_path\")\n",
    "            .merge(hog_df,    on=\"image_path\"))\n",
    "\n",
    "metadata_df = pd.read_csv(train_metadata_path)\n",
    "\n",
    "# 合并特征\n",
    "X = merge(metadata_df).drop(columns=[\"ClassId\", \"image_path\"])\n",
    "\n",
    "print(X.dtypes)  # 确保所有列都是 float 或 int 类型"
   ]
  },
  {
   "cell_type": "code",
   "execution_count": 15,
   "metadata": {},
   "outputs": [],
   "source": [
    "# 读取标签\n",
    "metadata_df = pd.read_csv(train_metadata_path)\n",
    "y = metadata_df['ClassId']\n",
    "y_encoded = to_categorical(y, num_classes=43)\n",
    "\n",
    "# 特征标准化\n",
    "scaler = StandardScaler()\n",
    "X_scaled = scaler.fit_transform(X)\n",
    "\n",
    "# 划分训练集与验证集\n",
    "X_train, X_val, y_train, y_val = train_test_split(X_scaled, y_encoded, test_size=0.1, random_state=42)"
   ]
  },
  {
   "cell_type": "code",
   "execution_count": 16,
   "metadata": {},
   "outputs": [
    {
     "name": "stdout",
     "output_type": "stream",
     "text": [
      "Epoch 1/25\n",
      "78/78 [==============================] - 1s 4ms/step - loss: 3.2257 - accuracy: 0.1804 - val_loss: 2.4107 - val_accuracy: 0.4044\n",
      "Epoch 2/25\n",
      "78/78 [==============================] - 0s 3ms/step - loss: 2.1022 - accuracy: 0.4179 - val_loss: 1.4305 - val_accuracy: 0.5811\n",
      "Epoch 3/25\n",
      "78/78 [==============================] - 0s 3ms/step - loss: 1.5159 - accuracy: 0.5311 - val_loss: 1.0821 - val_accuracy: 0.6758\n",
      "Epoch 4/25\n",
      "78/78 [==============================] - 0s 3ms/step - loss: 1.2174 - accuracy: 0.6007 - val_loss: 0.9550 - val_accuracy: 0.6903\n",
      "Epoch 5/25\n",
      "78/78 [==============================] - 0s 3ms/step - loss: 1.0552 - accuracy: 0.6536 - val_loss: 0.8345 - val_accuracy: 0.7468\n",
      "Epoch 6/25\n",
      "78/78 [==============================] - 0s 3ms/step - loss: 0.9606 - accuracy: 0.6858 - val_loss: 0.8197 - val_accuracy: 0.7359\n",
      "Epoch 7/25\n",
      "78/78 [==============================] - 0s 3ms/step - loss: 0.8445 - accuracy: 0.7129 - val_loss: 0.7523 - val_accuracy: 0.7468\n",
      "Epoch 8/25\n",
      "78/78 [==============================] - 0s 3ms/step - loss: 0.7829 - accuracy: 0.7386 - val_loss: 0.7084 - val_accuracy: 0.7741\n",
      "Epoch 9/25\n",
      "78/78 [==============================] - 0s 3ms/step - loss: 0.7248 - accuracy: 0.7520 - val_loss: 0.7025 - val_accuracy: 0.7832\n",
      "Epoch 10/25\n",
      "78/78 [==============================] - 0s 3ms/step - loss: 0.6765 - accuracy: 0.7682 - val_loss: 0.6393 - val_accuracy: 0.7741\n",
      "Epoch 11/25\n",
      "78/78 [==============================] - 0s 3ms/step - loss: 0.6416 - accuracy: 0.7811 - val_loss: 0.6178 - val_accuracy: 0.7923\n",
      "Epoch 12/25\n",
      "78/78 [==============================] - 0s 3ms/step - loss: 0.5794 - accuracy: 0.7967 - val_loss: 0.6500 - val_accuracy: 0.7905\n",
      "Epoch 13/25\n",
      "78/78 [==============================] - 0s 3ms/step - loss: 0.5683 - accuracy: 0.8109 - val_loss: 0.6317 - val_accuracy: 0.8051\n",
      "Epoch 14/25\n",
      "78/78 [==============================] - 0s 3ms/step - loss: 0.5452 - accuracy: 0.8158 - val_loss: 0.5852 - val_accuracy: 0.8015\n",
      "Epoch 15/25\n",
      "78/78 [==============================] - 0s 3ms/step - loss: 0.4968 - accuracy: 0.8301 - val_loss: 0.5447 - val_accuracy: 0.8106\n",
      "Epoch 16/25\n",
      "78/78 [==============================] - 0s 3ms/step - loss: 0.4941 - accuracy: 0.8319 - val_loss: 0.5408 - val_accuracy: 0.8270\n",
      "Epoch 17/25\n",
      "78/78 [==============================] - 0s 3ms/step - loss: 0.4756 - accuracy: 0.8384 - val_loss: 0.5613 - val_accuracy: 0.8233\n",
      "Epoch 18/25\n",
      "78/78 [==============================] - 0s 3ms/step - loss: 0.4668 - accuracy: 0.8384 - val_loss: 0.5595 - val_accuracy: 0.8233\n",
      "Epoch 19/25\n",
      "78/78 [==============================] - 0s 3ms/step - loss: 0.4302 - accuracy: 0.8569 - val_loss: 0.5765 - val_accuracy: 0.8033\n",
      "Epoch 20/25\n",
      "78/78 [==============================] - 0s 3ms/step - loss: 0.4395 - accuracy: 0.8490 - val_loss: 0.5381 - val_accuracy: 0.8106\n",
      "Epoch 21/25\n",
      "78/78 [==============================] - 0s 3ms/step - loss: 0.4218 - accuracy: 0.8492 - val_loss: 0.5323 - val_accuracy: 0.8288\n",
      "Epoch 22/25\n",
      "78/78 [==============================] - 0s 3ms/step - loss: 0.3792 - accuracy: 0.8751 - val_loss: 0.5066 - val_accuracy: 0.8361\n",
      "Epoch 23/25\n",
      "78/78 [==============================] - 0s 3ms/step - loss: 0.3731 - accuracy: 0.8714 - val_loss: 0.5195 - val_accuracy: 0.8525\n",
      "Epoch 24/25\n",
      "78/78 [==============================] - 0s 3ms/step - loss: 0.3583 - accuracy: 0.8797 - val_loss: 0.5271 - val_accuracy: 0.8270\n",
      "Epoch 25/25\n",
      "78/78 [==============================] - 0s 3ms/step - loss: 0.3692 - accuracy: 0.8700 - val_loss: 0.4959 - val_accuracy: 0.8397\n"
     ]
    },
    {
     "data": {
      "text/plain": [
       "<keras.callbacks.History at 0x29b3a5ce650>"
      ]
     },
     "execution_count": 16,
     "metadata": {},
     "output_type": "execute_result"
    }
   ],
   "source": [
    "# 搭建神经网络模型\n",
    "model = Sequential([\n",
    "    Dense(512, activation='relu', input_shape=(X_train.shape[1],)),\n",
    "    Dropout(0.4),\n",
    "    Dense(256, activation='relu'),\n",
    "    Dropout(0.3),\n",
    "    Dense(128, activation='relu'),\n",
    "    Dropout(0.3),\n",
    "    Dense(43, activation='softmax')  # 43类\n",
    "])\n",
    "\n",
    "# 编译模型\n",
    "model.compile(optimizer='adam', loss='categorical_crossentropy', metrics=['accuracy'])\n",
    "\n",
    "# 训练模型\n",
    "model.fit(X_train, y_train, validation_data=(X_val, y_val), epochs=25, batch_size=64)"
   ]
  },
  {
   "cell_type": "code",
   "execution_count": 17,
   "metadata": {},
   "outputs": [
    {
     "name": "stdout",
     "output_type": "stream",
     "text": [
      "18/18 [==============================] - 0s 1ms/step - loss: 0.4959 - accuracy: 0.8397\n",
      "\n",
      "Validation Accuracy: 0.8397\n"
     ]
    }
   ],
   "source": [
    "# 评估验证集准确率\n",
    "val_loss, val_acc = model.evaluate(X_val, y_val)\n",
    "print(f\"\\nValidation Accuracy: {val_acc:.4f}\")"
   ]
  },
  {
   "cell_type": "code",
   "execution_count": 18,
   "metadata": {},
   "outputs": [],
   "source": [
    "# 保存模型（可选）\n",
    "model.save('../models/neural_model.h5')"
   ]
  }
 ],
 "metadata": {
  "kernelspec": {
   "display_name": "Python 3",
   "language": "python",
   "name": "python3"
  },
  "language_info": {
   "codemirror_mode": {
    "name": "ipython",
    "version": 3
   },
   "file_extension": ".py",
   "mimetype": "text/x-python",
   "name": "python",
   "nbconvert_exporter": "python",
   "pygments_lexer": "ipython3",
   "version": "3.11.5"
  }
 },
 "nbformat": 4,
 "nbformat_minor": 2
}
