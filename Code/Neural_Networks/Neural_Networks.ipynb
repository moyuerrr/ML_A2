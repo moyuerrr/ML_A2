{
 "cells": [
  {
   "cell_type": "code",
   "execution_count": 5,
   "metadata": {},
   "outputs": [],
   "source": [
    "import os\n",
    "import pandas as pd\n",
    "import numpy as np\n",
    "from sklearn.model_selection import train_test_split\n",
    "from sklearn.preprocessing import StandardScaler\n",
    "from tensorflow.keras.models import Sequential\n",
    "from tensorflow.keras.layers import Dense, Dropout\n",
    "from tensorflow.keras.utils import to_categorical\n",
    "\n",
    "# 设置路径\n",
    "train_feature_dir = '../2025_A2/train/Features'\n",
    "train_metadata_path = '../2025_A2/train/train_metadata.csv'"
   ]
  },
  {
   "cell_type": "code",
   "execution_count": 6,
   "metadata": {},
   "outputs": [
    {
     "name": "stdout",
     "output_type": "stream",
     "text": [
      "ch_0            float64\n",
      "ch_1            float64\n",
      "ch_2            float64\n",
      "ch_3            float64\n",
      "ch_4            float64\n",
      "                 ...   \n",
      "hog_pca_19      float64\n",
      "edge_density    float64\n",
      "mean_b          float64\n",
      "mean_g          float64\n",
      "mean_r          float64\n",
      "Length: 120, dtype: object\n"
     ]
    }
   ],
   "source": [
    "\n",
    "# 读取特征数据\n",
    "color_df = pd.read_csv(os.path.join(train_feature_dir, 'color_histogram.csv')).drop(columns=['image_path'])\n",
    "hog_df = pd.read_csv(os.path.join(train_feature_dir, 'hog_pca.csv')).drop(columns=['image_path'])\n",
    "additional_df = pd.read_csv(os.path.join(train_feature_dir, 'additional_features.csv')).drop(columns=['image_path'])\n",
    "\n",
    "# 合并特征\n",
    "X = pd.concat([color_df, hog_df, additional_df], axis=1)\n",
    "print(X.dtypes)  # 确保所有列都是 float 或 int 类型"
   ]
  },
  {
   "cell_type": "code",
   "execution_count": 7,
   "metadata": {},
   "outputs": [],
   "source": [
    "# 读取标签\n",
    "metadata_df = pd.read_csv(train_metadata_path)\n",
    "y = metadata_df['ClassId']\n",
    "y_encoded = to_categorical(y, num_classes=43)\n",
    "\n",
    "# 特征标准化\n",
    "scaler = StandardScaler()\n",
    "X_scaled = scaler.fit_transform(X)\n",
    "\n",
    "# 划分训练集与验证集\n",
    "X_train, X_val, y_train, y_val = train_test_split(X_scaled, y_encoded, test_size=0.2, random_state=42)"
   ]
  },
  {
   "cell_type": "code",
   "execution_count": 8,
   "metadata": {},
   "outputs": [
    {
     "name": "stdout",
     "output_type": "stream",
     "text": [
      "Epoch 1/25\n",
      "69/69 [==============================] - 1s 4ms/step - loss: 3.2987 - accuracy: 0.1528 - val_loss: 2.5752 - val_accuracy: 0.3634\n",
      "Epoch 2/25\n",
      "69/69 [==============================] - 0s 3ms/step - loss: 2.3121 - accuracy: 0.3827 - val_loss: 1.6015 - val_accuracy: 0.5692\n",
      "Epoch 3/25\n",
      "69/69 [==============================] - 0s 3ms/step - loss: 1.6637 - accuracy: 0.5068 - val_loss: 1.1611 - val_accuracy: 0.6512\n",
      "Epoch 4/25\n",
      "69/69 [==============================] - 0s 3ms/step - loss: 1.3320 - accuracy: 0.5765 - val_loss: 0.9758 - val_accuracy: 0.7022\n",
      "Epoch 5/25\n",
      "69/69 [==============================] - 0s 3ms/step - loss: 1.1271 - accuracy: 0.6360 - val_loss: 0.8543 - val_accuracy: 0.7231\n",
      "Epoch 6/25\n",
      "69/69 [==============================] - 0s 3ms/step - loss: 1.0042 - accuracy: 0.6713 - val_loss: 0.7805 - val_accuracy: 0.7568\n",
      "Epoch 7/25\n",
      "69/69 [==============================] - 0s 3ms/step - loss: 0.9031 - accuracy: 0.7036 - val_loss: 0.7375 - val_accuracy: 0.7523\n",
      "Epoch 8/25\n",
      "69/69 [==============================] - 0s 3ms/step - loss: 0.8254 - accuracy: 0.7244 - val_loss: 0.6625 - val_accuracy: 0.7814\n",
      "Epoch 9/25\n",
      "69/69 [==============================] - 0s 3ms/step - loss: 0.7670 - accuracy: 0.7449 - val_loss: 0.6673 - val_accuracy: 0.7842\n",
      "Epoch 10/25\n",
      "69/69 [==============================] - 0s 3ms/step - loss: 0.7286 - accuracy: 0.7556 - val_loss: 0.6154 - val_accuracy: 0.7951\n",
      "Epoch 11/25\n",
      "69/69 [==============================] - 0s 3ms/step - loss: 0.6722 - accuracy: 0.7768 - val_loss: 0.6155 - val_accuracy: 0.7923\n",
      "Epoch 12/25\n",
      "69/69 [==============================] - 0s 3ms/step - loss: 0.6329 - accuracy: 0.7843 - val_loss: 0.5859 - val_accuracy: 0.8106\n",
      "Epoch 13/25\n",
      "69/69 [==============================] - 0s 3ms/step - loss: 0.5942 - accuracy: 0.7957 - val_loss: 0.5760 - val_accuracy: 0.8087\n",
      "Epoch 14/25\n",
      "69/69 [==============================] - 0s 3ms/step - loss: 0.5508 - accuracy: 0.8185 - val_loss: 0.5575 - val_accuracy: 0.8197\n",
      "Epoch 15/25\n",
      "69/69 [==============================] - 0s 3ms/step - loss: 0.5341 - accuracy: 0.8150 - val_loss: 0.5729 - val_accuracy: 0.8024\n",
      "Epoch 16/25\n",
      "69/69 [==============================] - 0s 3ms/step - loss: 0.5072 - accuracy: 0.8282 - val_loss: 0.5265 - val_accuracy: 0.8342\n",
      "Epoch 17/25\n",
      "69/69 [==============================] - 0s 3ms/step - loss: 0.4758 - accuracy: 0.8392 - val_loss: 0.5315 - val_accuracy: 0.8297\n",
      "Epoch 18/25\n",
      "69/69 [==============================] - 0s 3ms/step - loss: 0.4482 - accuracy: 0.8419 - val_loss: 0.5458 - val_accuracy: 0.8233\n",
      "Epoch 19/25\n",
      "69/69 [==============================] - 0s 3ms/step - loss: 0.4549 - accuracy: 0.8485 - val_loss: 0.5130 - val_accuracy: 0.8397\n",
      "Epoch 20/25\n",
      "69/69 [==============================] - 0s 3ms/step - loss: 0.4270 - accuracy: 0.8565 - val_loss: 0.5323 - val_accuracy: 0.8279\n",
      "Epoch 21/25\n",
      "69/69 [==============================] - 0s 3ms/step - loss: 0.3996 - accuracy: 0.8595 - val_loss: 0.5283 - val_accuracy: 0.8224\n",
      "Epoch 22/25\n",
      "69/69 [==============================] - 0s 3ms/step - loss: 0.3844 - accuracy: 0.8688 - val_loss: 0.5270 - val_accuracy: 0.8388\n",
      "Epoch 23/25\n",
      "69/69 [==============================] - 0s 3ms/step - loss: 0.3827 - accuracy: 0.8681 - val_loss: 0.5000 - val_accuracy: 0.8443\n",
      "Epoch 24/25\n",
      "69/69 [==============================] - 0s 3ms/step - loss: 0.3680 - accuracy: 0.8683 - val_loss: 0.5346 - val_accuracy: 0.8342\n",
      "Epoch 25/25\n",
      "69/69 [==============================] - 0s 3ms/step - loss: 0.3491 - accuracy: 0.8827 - val_loss: 0.5254 - val_accuracy: 0.8397\n"
     ]
    },
    {
     "data": {
      "text/plain": [
       "<keras.callbacks.History at 0x2ce9b71c650>"
      ]
     },
     "execution_count": 8,
     "metadata": {},
     "output_type": "execute_result"
    }
   ],
   "source": [
    "# 搭建神经网络模型\n",
    "model = Sequential([\n",
    "    Dense(512, activation='relu', input_shape=(X_train.shape[1],)),\n",
    "    Dropout(0.4),\n",
    "    Dense(256, activation='relu'),\n",
    "    Dropout(0.3),\n",
    "    Dense(128, activation='relu'),\n",
    "    Dropout(0.3),\n",
    "    Dense(43, activation='softmax')  # 43类\n",
    "])\n",
    "\n",
    "# 编译模型\n",
    "model.compile(optimizer='adam', loss='categorical_crossentropy', metrics=['accuracy'])\n",
    "\n",
    "# 训练模型\n",
    "model.fit(X_train, y_train, validation_data=(X_val, y_val), epochs=25, batch_size=64)"
   ]
  },
  {
   "cell_type": "code",
   "execution_count": 11,
   "metadata": {},
   "outputs": [
    {
     "name": "stdout",
     "output_type": "stream",
     "text": [
      "35/35 [==============================] - 0s 1ms/step - loss: 0.5254 - accuracy: 0.8397\n",
      "\n",
      "Validation Accuracy: 0.8397\n"
     ]
    }
   ],
   "source": [
    "# 评估验证集准确率\n",
    "val_loss, val_acc = model.evaluate(X_val, y_val)\n",
    "print(f\"\\nValidation Accuracy: {val_acc:.4f}\")\n",
    "\n",
    "# 保存模型（可选）\n",
    "model.save('../models/neural_model.h5')"
   ]
  }
 ],
 "metadata": {
  "kernelspec": {
   "display_name": "Python 3",
   "language": "python",
   "name": "python3"
  },
  "language_info": {
   "codemirror_mode": {
    "name": "ipython",
    "version": 3
   },
   "file_extension": ".py",
   "mimetype": "text/x-python",
   "name": "python",
   "nbconvert_exporter": "python",
   "pygments_lexer": "ipython3",
   "version": "3.11.5"
  }
 },
 "nbformat": 4,
 "nbformat_minor": 2
}
